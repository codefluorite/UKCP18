{
 "cells": [
  {
   "cell_type": "markdown",
   "metadata": {},
   "source": [
    "# Finding the frequency of exceedance events in a run of UKCP18 precipitation data"
   ]
  },
  {
   "cell_type": "markdown",
   "metadata": {},
   "source": [
    "The UKCP18 hourly precipitation data has now been extracted for each weather stations and for each time slice. The task now is to produce the number of exceedance events for a run of rainfall data. The conditions are: \n",
    "\n",
    "* If no rainfall fell within a given period then a zero is returned. \n",
    "* Precipitation events are independent where an event begins and ends with an hour of zero rainfall. \n",
    "* An exceedance event is defined by at least one hour reaching or exceeding a chosen threshold. If a given run of rainfall events  is 0, 1, 2, 4, 5, 0, 1, 2, 3, 0 and we wanted to find out the frequency of a 4mm exceedance event then a value of 1 should be returned.\n",
    "\n",
    "Therefore the first task is to create a data frame where each row represents a run of 24 hours. \n",
    "\n",
    "The Run Length Encoding feature is used in the R environment and a function with apply() is used to work out if there were any precipitation events in a given 24 hour period, attached an ID to each event and find out the maximum of such an event. \n"
   ]
  },
  {
   "cell_type": "markdown",
   "metadata": {},
   "source": [
    "## Setting the data.frame"
   ]
  },
  {
   "cell_type": "markdown",
   "metadata": {},
   "source": [
    "Install the following packages in the R environment"
   ]
  },
  {
   "cell_type": "raw",
   "metadata": {},
   "source": [
    "library(tidyr)\n",
    "library(data.table)\n",
    "library(dplyr)\n",
    "library(plyr)"
   ]
  },
  {
   "cell_type": "markdown",
   "metadata": {},
   "source": [
    "The next task is to import the weather station monthly files (from the years respected files). "
   ]
  },
  {
   "cell_type": "raw",
   "metadata": {},
   "source": [
    "#import files into R (Eskdalemuir version)\n",
    "\n",
    "\n",
    "file1981 <- read.csv(\"1981/eskdalemuir1981.csv\")\n",
    "file1982 <- read.csv(\"1982/eskdalemuir1982.csv\")\n",
    "file1983 <- read.csv(\"1983/eskdalemuir1983.csv\")\n",
    "file1984 <- read.csv(\"1984/eskdalemuir1984.csv\")\n",
    "file1985 <- read.csv(\"1985/eskdalemuir1985.csv\")\n",
    "file1986 <- read.csv(\"1986/eskdalemuir1986.csv\")\n",
    "file1987 <- read.csv(\"1987/eskdalemuir1987.csv\")\n",
    "file1988 <- read.csv(\"1988/eskdalemuir1988.csv\")\n",
    "file1989 <- read.csv(\"1989/eskdalemuir1989.csv\")\n",
    "file1990 <- read.csv(\"1990/eskdalemuir1990.csv\")\n",
    "file1991 <- read.csv(\"1991/eskdalemuir1991.csv\")\n",
    "file1992 <- read.csv(\"1992/eskdalemuir1992.csv\")\n",
    "file1993 <- read.csv(\"1993/eskdalemuir1993.csv\")\n",
    "file1994 <- read.csv(\"1994/eskdalemuir1994.csv\")\n",
    "file1995 <- read.csv(\"1995/eskdalemuir1995.csv\")\n",
    "file1996 <- read.csv(\"1996/eskdalemuir1996.csv\")\n",
    "file1997 <- read.csv(\"1997/eskdalemuir1997.csv\")\n",
    "file1998 <- read.csv(\"1998/eskdalemuir1998.csv\")\n",
    "file1999 <- read.csv(\"1999/eskdalemuir1999.csv\")\n",
    "file2000 <- read.csv(\"2000/eskdalemuir2000.csv\")"
   ]
  },
  {
   "cell_type": "markdown",
   "metadata": {},
   "source": [
    "The data needs to be combined by rows and made into a data frame. When extracting the precipitation information from the NetCDF file rainfall was originally coded with an identifer for each weather station (in the case of Eskdalemuir e.rainfall). To adjust the programme for all weather stations the prefix for a weather station is dropped for a more generic name (in this case rainfall) in addition it is also rounded down to two d.p. Furthermore, the name is made into a character format. "
   ]
  },
  {
   "cell_type": "raw",
   "metadata": {},
   "source": [
    "# merge files into one data table - predix ws = weather station \n",
    "\n",
    "ws <-rbind(file1981, file1982, file1983, file1984, file1985, file1986, file1987, file1988, file1989, file1990, file1991, file1992, file1993, file1994, file1995, file1996, file1997, file1998, file1999, file2000)\n",
    "\n",
    "ws$e.rainfall <- round(ws$e.rainfall, digits = 2)\n",
    "\n",
    "ws$date <- as.character(ws$ex_e.datetime)\n",
    "\n",
    "ws$rainfall <- ws$e.rainfall\n"
   ]
  },
  {
   "cell_type": "markdown",
   "metadata": {},
   "source": [
    "Clean up the global environment"
   ]
  },
  {
   "cell_type": "raw",
   "metadata": {},
   "source": [
    "#clean up the global environment\n",
    "\n",
    "ws$ex_e.datetime <- NULL\n",
    "\n",
    "ws$e.rainfall <- NULL\n",
    "\n",
    "rm(file1981, file1982, file1983, file1984, \n",
    "   file1985, file1986, file1987, file1988, file1989, \n",
    "   file1990, file1991, file1992, file1993, file1994, \n",
    "   file1995, file1996, file1997, file1998, file1999, file2000)"
   ]
  },
  {
   "cell_type": "markdown",
   "metadata": {},
   "source": [
    "## Creating additional rows for subsetting later"
   ]
  },
  {
   "cell_type": "markdown",
   "metadata": {},
   "source": [
    "As the data is in an easy 360_day calendar format hour, days, months and years can be created and repeated for subsetting later. "
   ]
  },
  {
   "cell_type": "raw",
   "metadata": {},
   "source": [
    "#create data rows or hours, day, months and year for subsetting later \n",
    "\n",
    "ws$hour <- rep(0:23,length.out=172080)\n",
    "\n",
    "ws$day <- rep(c(1, 2, 3, 4, 5, 6, 7, 8, 9, 10, 11, 12, 13, 14, \n",
    "                15, 16, 17, 18, 19, 20, 21, 22, 23, 24, 25, 26, \n",
    "                27, 28, 29, 30), each = 24, times = 12, length.out=172080)\n",
    "\n",
    "ws$month <- rep(c(1, 2, 3, 4, 5, 6, 7, 8, 9, 10, 11, 12), \n",
    "                each = 720, length.out=172080)\n",
    "\n",
    "ws$year <- rep(c(1981:2000), each = 8640, length.out=172080)"
   ]
  },
  {
   "cell_type": "markdown",
   "metadata": {},
   "source": [
    "## Creating a data.frame to work with"
   ]
  },
  {
   "cell_type": "raw",
   "metadata": {},
   "source": [
    "#create a data frame to work with\n",
    "\n",
    "hour <- ws$hour\n",
    "day <- ws$day\n",
    "month <- ws$month\n",
    "year <- ws$year\n",
    "rainfall <- ws$rainfall\n",
    "\n",
    "rainfall.data <- data.frame(year, month, day, hour, rainfall, stringsAsFactors=FALSE)\n"
   ]
  },
  {
   "cell_type": "markdown",
   "metadata": {},
   "source": [
    "## Transform the data into rows which hold a daily run of precpitation information"
   ]
  },
  {
   "cell_type": "raw",
   "metadata": {},
   "source": [
    "#transform the data into a wide data frame\n",
    "\n",
    "df <- rainfall.data %>% spread(hour, rainfall)"
   ]
  },
  {
   "cell_type": "markdown",
   "metadata": {},
   "source": [
    "# Coding the run of precpitation values and the frequency of event exceedance for a certain condition"
   ]
  },
  {
   "cell_type": "markdown",
   "metadata": {},
   "source": [
    "The Run Length Encoding function is used to compute the length of values which are more than 0 in a vector. More information can be found by entering the following code into the R console: "
   ]
  },
  {
   "cell_type": "code",
   "execution_count": 7,
   "metadata": {},
   "outputs": [],
   "source": [
    "?rle"
   ]
  },
  {
   "cell_type": "markdown",
   "metadata": {},
   "source": [
    "The function below (events)is based on a given set of values (rows in this case)and uses if statements as conditions to carry out an operation based on the following: \n",
    "\n",
    "* If the sum of the daily precipitation values is above 0 then this indicates a precipitation event event if there was only one 0.1mm hour record. If this condition is met then the an ID is create (here named storm) for each consectutive run of data. \n",
    "* The tapply function brings together the precipitation and storm id vectors and for each run the maximum within a run is computed into rain_event. \n",
    "* The event_count is created to sum the vector os rain_event where an exceedance value is met (in the below code => 4)\n",
    "\n",
    "* The else {} statement is an alternative to the original if condition which isn't met as 0 rainfall was recrded over a 24 hour period then a 0 is returned for the row."
   ]
  },
  {
   "cell_type": "raw",
   "metadata": {},
   "source": [
    "events <- function(i){\n",
    "  precip <- as.numeric(i)\n",
    "  \n",
    "  if(sum(precip > 0.0)){\n",
    "    \n",
    "    consec_precip = rle(precip > 0.0)\n",
    "    #create id for storm event \n",
    "    storm_id = rep(0.0, length(precip))\n",
    "    storm_id[precip > 0.0] = rep(1:sum(consec_precip$values), consec_precip$lengths[consec_precip$values])\n",
    "    \n",
    "    rain_event <- tapply(precip, storm_id, max)\n",
    "    event_count <- sum(rain_event >= 4.0)\n",
    "    return(event_count)\n",
    "  } else { \n",
    "    \n",
    "    return(0)\n",
    "  }\n",
    "}"
   ]
  },
  {
   "cell_type": "markdown",
   "metadata": {},
   "source": [
    "The following apply function can be used for all rows using the events function above. Only cols 4:27 are usedas these contain the rainfall value runs. "
   ]
  },
  {
   "cell_type": "raw",
   "metadata": {},
   "source": [
    "exceedance <- apply(df[,4:27], 1, events)"
   ]
  },
  {
   "cell_type": "markdown",
   "metadata": {},
   "source": [
    "This results in a coloumn with 7170 values for each row in the data.frame"
   ]
  },
  {
   "cell_type": "markdown",
   "metadata": {},
   "source": [
    "The function can be rerun with a different name to find exceedance events which have met the 10mm threshold"
   ]
  },
  {
   "cell_type": "markdown",
   "metadata": {},
   "source": [
    "## Adding the new coloumn and tidying up the data frame"
   ]
  },
  {
   "cell_type": "raw",
   "metadata": {},
   "source": [
    "# tidy up data frame and make the dataset user friendly\n",
    "\n",
    "exceedance_4 <- apply(df[,4:27], 1, events_4)\n",
    "exceedance_10 <- apply(df[,4:27], 1, events_10)\n",
    "rainfall_total <- apply(df[,4:27], 1, sum)\n",
    "\n",
    "\n",
    "df$exceedance.4 <- exceedance_4\n",
    "df$exceedance.10 <- exceedance_10\n",
    "df$rainfall_total <- rainfall_total\n"
   ]
  },
  {
   "cell_type": "markdown",
   "metadata": {},
   "source": [
    "To remove the hourly precipitation values:"
   ]
  },
  {
   "cell_type": "raw",
   "metadata": {},
   "source": [
    "df <- df[, -c(4:27)]"
   ]
  },
  {
   "cell_type": "markdown",
   "metadata": {},
   "source": [
    "## Create a data.frame of monthly precipitation and exceedance values"
   ]
  },
  {
   "cell_type": "markdown",
   "metadata": {},
   "source": [
    "The data needs to be grouped according to year and sum with summing of the exceedance and rainfall values"
   ]
  },
  {
   "cell_type": "raw",
   "metadata": {},
   "source": [
    "df <- df %>% \n",
    "      group_by(year, month) %>% summarise_at(vars(exceedance.4, exceedance.10, rainfall_total), funs(sum))\n"
   ]
  },
  {
   "cell_type": "markdown",
   "metadata": {},
   "source": [
    "Finally add an ensemble number and write the data frame to a .csv file "
   ]
  },
  {
   "cell_type": "raw",
   "metadata": {},
   "source": [
    "df$ensemble <- rep(1,length.out=239)\n",
    "\n",
    "write.csv(df,\"ukcp18\\\\eskdalemuir8000.csv\", row.names = FALSE)"
   ]
  },
  {
   "cell_type": "markdown",
   "metadata": {},
   "source": [
    "Note - elements in the code relating to importing/writing files and emsenbe numbers need to be altered with each time slice and weather station"
   ]
  },
  {
   "cell_type": "code",
   "execution_count": null,
   "metadata": {},
   "outputs": [],
   "source": []
  }
 ],
 "metadata": {
  "kernelspec": {
   "display_name": "R",
   "language": "R",
   "name": "ir"
  },
  "language_info": {
   "codemirror_mode": "r",
   "file_extension": ".r",
   "mimetype": "text/x-r-source",
   "name": "R",
   "pygments_lexer": "r",
   "version": "3.6.1"
  }
 },
 "nbformat": 4,
 "nbformat_minor": 4
}
